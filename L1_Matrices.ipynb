{
  "cells": [
    {
      "cell_type": "markdown",
      "metadata": {
        "id": "view-in-github",
        "colab_type": "text"
      },
      "source": [
        "<a href=\"https://colab.research.google.com/github/pabloboada88/Compute-science/blob/main/L1_Matrices.ipynb\" target=\"_parent\"><img src=\"https://colab.research.google.com/assets/colab-badge.svg\" alt=\"Open In Colab\"/></a>"
      ]
    },
    {
      "cell_type": "markdown",
      "metadata": {
        "id": "g20HXX0gkA-F"
      },
      "source": [
        "# Práctica 1. Matrices\n",
        "\n",
        "### 1. Introducción\n",
        "\n",
        "\n",
        "A lo largo de las prácticas utilizaremos principalmente el paquete de Python `numpy` y también el subpaquete `linalg` de `scipy`, luego es **muy importante** importarlos siempre antes de empezar la sesión. "
      ]
    },
    {
      "cell_type": "code",
      "execution_count": 1,
      "metadata": {
        "id": "-FTPcjQkkA-J"
      },
      "outputs": [],
      "source": [
        "import numpy as np\n",
        "import scipy.linalg as la"
      ]
    },
    {
      "cell_type": "markdown",
      "metadata": {
        "id": "sQKo6K6VkA-L"
      },
      "source": [
        "Por comodidad, los hemos llamado con un nombre abreviado. Si se nos olvida importarlos, al ejecutar algún comando que los necesite nos saldrá un mensaje de error del tipo siguiente: `NameError: name 'np' is not defined`.\n",
        "\n",
        "**Los escalares** se introducen directamente y, en el caso de números decimales, separando la parte entera de la decimal con un\n",
        "punto. "
      ]
    },
    {
      "cell_type": "code",
      "execution_count": 2,
      "metadata": {
        "scrolled": true,
        "colab": {
          "base_uri": "https://localhost:8080/"
        },
        "id": "NHvEHxsokA-L",
        "outputId": "2d04ab69-130b-4b63-d025-6910539dd07e"
      },
      "outputs": [
        {
          "output_type": "stream",
          "name": "stdout",
          "text": [
            "[a,b] = [2, 3.5]\n"
          ]
        }
      ],
      "source": [
        "a=2\n",
        "b=3.5\n",
        "print('[a,b] =',[a,b])"
      ]
    },
    {
      "cell_type": "markdown",
      "metadata": {
        "id": "IafqzvUYkA-M"
      },
      "source": [
        "Podemos **redondear** un número concreto $x$ a $d$ decimales mediante `round(x, d)`."
      ]
    },
    {
      "cell_type": "code",
      "execution_count": 3,
      "metadata": {
        "colab": {
          "base_uri": "https://localhost:8080/"
        },
        "id": "w1w-e28ikA-M",
        "outputId": "1a7636dd-0dbd-4dac-b1b0-d6c86e17c84f"
      },
      "outputs": [
        {
          "output_type": "execute_result",
          "data": {
            "text/plain": [
              "3.14"
            ]
          },
          "metadata": {},
          "execution_count": 3
        }
      ],
      "source": [
        "round(3.1415926, 2)"
      ]
    },
    {
      "cell_type": "markdown",
      "metadata": {
        "id": "tYhLa__nkA-M"
      },
      "source": [
        "### 2. Matrices"
      ]
    },
    {
      "cell_type": "markdown",
      "metadata": {
        "id": "OYxmu9DGkA-N"
      },
      "source": [
        "Con el comando `np.array([ vector ])` podemos crear listas como la anterior, pero además podremos operar con ellas. Observemos que el _output_ obtenido es un poco diferente si usamos `print`."
      ]
    },
    {
      "cell_type": "code",
      "execution_count": 4,
      "metadata": {
        "colab": {
          "base_uri": "https://localhost:8080/"
        },
        "id": "3r_5eS7RkA-N",
        "outputId": "c6192c1c-c5b4-4295-f41b-9eedd2c47943"
      },
      "outputs": [
        {
          "output_type": "execute_result",
          "data": {
            "text/plain": [
              "array([[6, 9]])"
            ]
          },
          "metadata": {},
          "execution_count": 4
        }
      ],
      "source": [
        "v=np.array([[2,3]])\n",
        "3*v"
      ]
    },
    {
      "cell_type": "code",
      "execution_count": 5,
      "metadata": {
        "colab": {
          "base_uri": "https://localhost:8080/"
        },
        "id": "u3Bv4I9jkA-O",
        "outputId": "110a5dc6-f7b8-4c73-80a1-bf79b4985e0f"
      },
      "outputs": [
        {
          "output_type": "stream",
          "name": "stdout",
          "text": [
            "[[6 9]]\n"
          ]
        }
      ],
      "source": [
        "print(3*v)"
      ]
    },
    {
      "cell_type": "markdown",
      "metadata": {
        "id": "JdlguQxakA-O"
      },
      "source": [
        "También es posible redondear en global todas las entradas de un vector con `np.round(v, d)`."
      ]
    },
    {
      "cell_type": "code",
      "execution_count": 6,
      "metadata": {
        "colab": {
          "base_uri": "https://localhost:8080/"
        },
        "id": "qhHe1XDrkA-O",
        "outputId": "27e7c189-da5a-40a3-b472-9a56bde24079"
      },
      "outputs": [
        {
          "output_type": "execute_result",
          "data": {
            "text/plain": [
              "array([[0.11, 1.22]])"
            ]
          },
          "metadata": {},
          "execution_count": 6
        }
      ],
      "source": [
        "np.round(np.array([[1/9, 11/9]]), 2)"
      ]
    },
    {
      "cell_type": "markdown",
      "metadata": {
        "id": "uxhQYtpIkA-P"
      },
      "source": [
        "Los vectores los podemos introducir en modo fila o columna, y con varios vectores podemos crear también **matrices** de las dimensiones que deseemos."
      ]
    },
    {
      "cell_type": "code",
      "execution_count": 10,
      "metadata": {
        "id": "TUYhEYvLkA-P"
      },
      "outputs": [],
      "source": [
        "v1=np.array([[1,2,3]])      # vector de dimensión (1,3)\n",
        "v2=np.array([[5],[7],[-1]])         # vector de dimensión (3,1)\n",
        "M=np.array([[1, 0, -3],\n",
        "            [2, 5, 0],\n",
        "            [1, 1, -4]])    # matriz de dimensión (3,3)"
      ]
    },
    {
      "cell_type": "code",
      "execution_count": 11,
      "metadata": {
        "colab": {
          "base_uri": "https://localhost:8080/"
        },
        "id": "jDAmHVtikA-P",
        "outputId": "36c1b848-fef6-4aa3-c888-6da72f8a4d35"
      },
      "outputs": [
        {
          "output_type": "execute_result",
          "data": {
            "text/plain": [
              "array([[1, 2, 3]])"
            ]
          },
          "metadata": {},
          "execution_count": 11
        }
      ],
      "source": [
        "v1"
      ]
    },
    {
      "cell_type": "code",
      "execution_count": 12,
      "metadata": {
        "colab": {
          "base_uri": "https://localhost:8080/"
        },
        "id": "Hnvdli54kA-Q",
        "outputId": "98b06d0d-52bf-47d8-909c-fa4795199277"
      },
      "outputs": [
        {
          "output_type": "stream",
          "name": "stdout",
          "text": [
            "[[ 1  0 -3]\n",
            " [ 2  5  0]\n",
            " [ 1  1 -4]]\n",
            "[[ 5]\n",
            " [ 7]\n",
            " [-1]]\n"
          ]
        }
      ],
      "source": [
        "print(M)\n",
        "print(v2)"
      ]
    },
    {
      "cell_type": "markdown",
      "metadata": {
        "id": "-JZuNZZKkA-Q"
      },
      "source": [
        "Podemos comprobar las **dimensiones** de los vectores y la matriz anteriores añadiéndole `.shape` a sus nombres. Asimismo, con `.size` obtendremos el número total de elementos que poseen."
      ]
    },
    {
      "cell_type": "code",
      "execution_count": 13,
      "metadata": {
        "colab": {
          "base_uri": "https://localhost:8080/"
        },
        "id": "rn53tlE5kA-Q",
        "outputId": "f89ad875-b4e2-4100-cd1a-1951d81b409d"
      },
      "outputs": [
        {
          "output_type": "execute_result",
          "data": {
            "text/plain": [
              "(1, 3)"
            ]
          },
          "metadata": {},
          "execution_count": 13
        }
      ],
      "source": [
        "v1.shape"
      ]
    },
    {
      "cell_type": "code",
      "execution_count": 14,
      "metadata": {
        "colab": {
          "base_uri": "https://localhost:8080/"
        },
        "id": "NpijYD2JkA-R",
        "outputId": "0a080022-129c-4bf4-afd7-a329393c383a"
      },
      "outputs": [
        {
          "output_type": "execute_result",
          "data": {
            "text/plain": [
              "(3, 3)"
            ]
          },
          "metadata": {},
          "execution_count": 14
        }
      ],
      "source": [
        "M.shape"
      ]
    },
    {
      "cell_type": "code",
      "execution_count": 15,
      "metadata": {
        "colab": {
          "base_uri": "https://localhost:8080/"
        },
        "id": "ag-PtJZ8kA-R",
        "outputId": "059d4c3a-e182-4020-cebb-33b4fafe2c87"
      },
      "outputs": [
        {
          "output_type": "execute_result",
          "data": {
            "text/plain": [
              "3"
            ]
          },
          "metadata": {},
          "execution_count": 15
        }
      ],
      "source": [
        "v2.size"
      ]
    },
    {
      "cell_type": "code",
      "execution_count": 16,
      "metadata": {
        "colab": {
          "base_uri": "https://localhost:8080/"
        },
        "id": "kqIo2VobkA-R",
        "outputId": "bfa5787b-881d-479a-9020-be60e2eb8e40"
      },
      "outputs": [
        {
          "output_type": "execute_result",
          "data": {
            "text/plain": [
              "9"
            ]
          },
          "metadata": {},
          "execution_count": 16
        }
      ],
      "source": [
        "M.size"
      ]
    },
    {
      "cell_type": "markdown",
      "metadata": {
        "id": "KPPgavZ4kA-S"
      },
      "source": [
        "Otra forma que puede ser útil para crear matrices es uniendo vectores previos, a través de `np.vstack`. Si los vectores están en columna, usaremos `np.hstack` para _unirlos horizontalmente_."
      ]
    },
    {
      "cell_type": "code",
      "execution_count": 17,
      "metadata": {
        "colab": {
          "base_uri": "https://localhost:8080/"
        },
        "id": "rcefQNdJkA-S",
        "outputId": "30ff62ee-4b81-46c7-8430-817517b168ee"
      },
      "outputs": [
        {
          "output_type": "stream",
          "name": "stdout",
          "text": [
            "[[0 1 0]\n",
            " [1 0 0]\n",
            " [1 2 3]]\n"
          ]
        }
      ],
      "source": [
        "v3=np.array([[0,1,0]])\n",
        "v4=np.array([[1,0,0]])\n",
        "N=np.vstack([v3,v4,v1])   # matriz creada uniendo por filas v3, v4 y v1\n",
        "print(N)"
      ]
    },
    {
      "cell_type": "code",
      "execution_count": 74,
      "metadata": {
        "colab": {
          "base_uri": "https://localhost:8080/"
        },
        "id": "YtJicGZmkA-S",
        "outputId": "6d06a1cd-36a7-4992-906e-6f7f6d0e0a46"
      },
      "outputs": [
        {
          "output_type": "stream",
          "name": "stdout",
          "text": [
            "[[ 5  1  1]\n",
            " [ 7  0  1]\n",
            " [-1  0  1]]\n"
          ]
        }
      ],
      "source": [
        "v5=np.array([[1],\n",
        "            [0],\n",
        "            [0]])\n",
        "v6=np.array([[1],\n",
        "            [1],\n",
        "            [1]])\n",
        "L=np.hstack([v2,v5,v6])   # en este caso, matriz creada uniendo por columnas v2, v5 y v6\n",
        "print(L)"
      ]
    },
    {
      "cell_type": "markdown",
      "metadata": {
        "id": "nFQyXygekA-S"
      },
      "source": [
        "### 3. Algunas matrices especiales\n",
        "\n",
        "Existen comandos que nos permiten crear directamente algunos tipos de matrices que utilizaremos frecuentemente. Por ejemplo, con `np.zeros((m,n))` podremos crear una **matriz nula** de dimensión $m \\times n$. La **matriz identidad** de dimensión $n$ la podemos construir a través de `np.eye(n)`, mientras que `np.ones((m,n))` nos crea una **matriz de unos** de dimensión $m\\times n$."
      ]
    },
    {
      "cell_type": "code",
      "execution_count": 22,
      "metadata": {
        "colab": {
          "base_uri": "https://localhost:8080/"
        },
        "id": "7_BOGKIakA-T",
        "outputId": "39cd1ba6-7c2c-4db6-9f2b-13b3bec959d3"
      },
      "outputs": [
        {
          "output_type": "stream",
          "name": "stdout",
          "text": [
            "[[0. 0. 0.]\n",
            " [0. 0. 0.]]\n",
            "[[1. 1. 1. 1. 1.]\n",
            " [1. 1. 1. 1. 1.]\n",
            " [1. 1. 1. 1. 1.]\n",
            " [1. 1. 1. 1. 1.]]\n",
            "[[1. 0. 0.]\n",
            " [0. 1. 0.]\n",
            " [0. 0. 1.]]\n"
          ]
        }
      ],
      "source": [
        "print(np.zeros((2,3)))\n",
        "print(np.ones((4,5)))\n",
        "print(np.eye(3))"
      ]
    },
    {
      "cell_type": "markdown",
      "metadata": {
        "id": "aQDpQvRIkA-T"
      },
      "source": [
        "Una **matriz de entradas constantes** $k$ puede ser construida de dos formas diferentes. Por ejemplo, a través del comando `np.full((m, n), k)`, o también _multiplicando_ el escalar $k$ por una matriz de unos (esto conlleva una _operación con matrices_ que veremos en la siguiente sección)."
      ]
    },
    {
      "cell_type": "code",
      "execution_count": 25,
      "metadata": {
        "colab": {
          "base_uri": "https://localhost:8080/"
        },
        "id": "q8SIz4I_kA-T",
        "outputId": "a7dc913c-ed81-46c9-af2c-d49d6bb402ac"
      },
      "outputs": [
        {
          "output_type": "stream",
          "name": "stdout",
          "text": [
            "[[7 7 7 7]\n",
            " [7 7 7 7]\n",
            " [7 7 7 7]]\n",
            "[[6. 7. 7. 7. 7.]\n",
            " [7. 6. 7. 7. 7.]\n",
            " [7. 7. 6. 7. 7.]\n",
            " [7. 7. 7. 6. 7.]\n",
            " [7. 7. 7. 7. 6.]]\n"
          ]
        }
      ],
      "source": [
        "print(np.full((3,4), 7))\n",
        "print(7*np.ones((5,5))-np.eye(5))"
      ]
    },
    {
      "cell_type": "markdown",
      "metadata": {
        "id": "yP0AhEg-kA-T"
      },
      "source": [
        "Una **matrix diagonal** con entradas $a_1, \\ldots, a_n$ puede ser creada a partir de `np.diag([ ])`, introduciendo dentro de los corchetes las entradas. Asimismo, con `np.diag(A)` podemos obtener un vector cuyas entradas son los elementos de la diagonal de la matriz $A$."
      ]
    },
    {
      "cell_type": "code",
      "execution_count": 24,
      "metadata": {
        "colab": {
          "base_uri": "https://localhost:8080/"
        },
        "id": "SJoUgA1AkA-T",
        "outputId": "b8d5f947-1054-4be6-dca1-924dabb53feb"
      },
      "outputs": [
        {
          "output_type": "stream",
          "name": "stdout",
          "text": [
            "[[1 0 0 0 0]\n",
            " [0 2 0 0 0]\n",
            " [0 0 3 0 0]\n",
            " [0 0 0 4 0]\n",
            " [0 0 0 0 5]]\n",
            "[5 0 1]\n",
            "[[5 0 0]\n",
            " [0 0 0]\n",
            " [0 0 1]]\n"
          ]
        }
      ],
      "source": [
        "A=np.diag([1,2,3,4,5])\n",
        "print(A)\n",
        "\n",
        "print(np.diag(L))\n",
        "\n",
        "D=np.diag(np.diag(L))     # De esta forma obtenemos una matriz diagonal a partir de la diagonal de L\n",
        "print(D)"
      ]
    },
    {
      "cell_type": "markdown",
      "metadata": {
        "id": "dKl2C5aVkA-U"
      },
      "source": [
        "### 4. Operaciones con matrices\n",
        "\n",
        "Las **operaciones aritméticas** usuales `+,-,*,/` (suma, resta, multiplicación y división) y `**` (potencia) sobre listas se aplican **elemento a elemento**."
      ]
    },
    {
      "cell_type": "code",
      "execution_count": 26,
      "metadata": {
        "colab": {
          "base_uri": "https://localhost:8080/"
        },
        "id": "-GTXpeM9kA-U",
        "outputId": "9cfbc24e-24b5-408a-dddd-15155c82c869"
      },
      "outputs": [
        {
          "output_type": "stream",
          "name": "stdout",
          "text": [
            "[[ 1  0 -3]\n",
            " [ 2  5  0]\n",
            " [ 1  1 -4]]\n",
            "[[0 1 0]\n",
            " [1 0 0]\n",
            " [1 2 3]]\n",
            "[[ 1  1 -3]\n",
            " [ 3  5  0]\n",
            " [ 2  3 -1]]\n"
          ]
        }
      ],
      "source": [
        "print(M)\n",
        "print(N)\n",
        "print(M+N)"
      ]
    },
    {
      "cell_type": "code",
      "execution_count": 75,
      "metadata": {
        "colab": {
          "base_uri": "https://localhost:8080/"
        },
        "id": "S04KulIdkA-U",
        "outputId": "1fa63824-843b-4403-84ae-a0ca268e8254"
      },
      "outputs": [
        {
          "output_type": "stream",
          "name": "stdout",
          "text": [
            "[[ 4  1  4]\n",
            " [ 5 -5  1]\n",
            " [-2 -1  5]]\n",
            "[[ 5  1  1]\n",
            " [ 7  0  1]\n",
            " [-1  0  1]]\n",
            "[[ 4  0  0]\n",
            " [ 6 -1  0]\n",
            " [-2 -1  0]]\n"
          ]
        }
      ],
      "source": [
        "print(L-M)\n",
        "print(L)\n",
        "print(L-1)"
      ]
    },
    {
      "cell_type": "code",
      "source": [
        "print(M)\n",
        "print(N)"
      ],
      "metadata": {
        "colab": {
          "base_uri": "https://localhost:8080/"
        },
        "id": "ixP1rNtrrSNr",
        "outputId": "297104a3-8758-4525-b06c-69b7ed52e205"
      },
      "execution_count": 30,
      "outputs": [
        {
          "output_type": "stream",
          "name": "stdout",
          "text": [
            "[[ 1  0 -3]\n",
            " [ 2  5  0]\n",
            " [ 1  1 -4]]\n",
            "[[0 1 0]\n",
            " [1 0 0]\n",
            " [1 2 3]]\n"
          ]
        }
      ]
    },
    {
      "cell_type": "code",
      "execution_count": 29,
      "metadata": {
        "colab": {
          "base_uri": "https://localhost:8080/"
        },
        "id": "9Pmpnve6kA-U",
        "outputId": "e5f97cdd-99e4-4ac2-ab2e-ba4c0b14aaeb"
      },
      "outputs": [
        {
          "output_type": "stream",
          "name": "stdout",
          "text": [
            "[[  0   0   0]\n",
            " [  2   0   0]\n",
            " [  1   2 -12]]\n",
            "[[  1   0  -9]\n",
            " [  2  10   0]\n",
            " [  1   2 -12]]\n",
            "[[  5   0 -15]\n",
            " [ 14  35   0]\n",
            " [ -1  -1   4]]\n"
          ]
        }
      ],
      "source": [
        "print(M*N)                # multiplicada cada entrada de M por su correspondiente entrada en N. \n",
        "                          # NO es el producto de matrices estándar\n",
        "print(M*v1)\n",
        "print(M*v2)"
      ]
    },
    {
      "cell_type": "code",
      "execution_count": 31,
      "metadata": {
        "colab": {
          "base_uri": "https://localhost:8080/"
        },
        "id": "5RGqe9l1kA-V",
        "outputId": "f24bbc0e-72a5-475c-be9a-6376383fa961"
      },
      "outputs": [
        {
          "output_type": "stream",
          "name": "stdout",
          "text": [
            "[[ 1  0  9]\n",
            " [ 4 25  0]\n",
            " [ 1  1 16]]\n",
            "[[4 6]]\n",
            "[[16 64]]\n"
          ]
        }
      ],
      "source": [
        "print(M**2)        # eleva cada elemento de M al cuadrado\n",
        "print(2*v)    \n",
        "print(2**(2*v))    # eleva el escalar 2 a cada entrada del vector 2*v=[4,7], es decir, crea el vector [2^4, 2^7]"
      ]
    },
    {
      "cell_type": "markdown",
      "metadata": {
        "id": "9SCAa5-IkA-V"
      },
      "source": [
        "Para realizar el **producto de matrices estándar** entre dos matrices compatibles $M$ y $N$, debemos usar `M @ N` (los espacios realmente no son necesarios) o bien `M.dot(N)`."
      ]
    },
    {
      "cell_type": "code",
      "execution_count": 76,
      "metadata": {
        "colab": {
          "base_uri": "https://localhost:8080/"
        },
        "id": "MPNhPULWkA-V",
        "outputId": "386c90f1-7fe3-4461-c66d-9a3049928a2b"
      },
      "outputs": [
        {
          "output_type": "stream",
          "name": "stdout",
          "text": [
            "[[ 5  1  1]\n",
            " [ 7  0  1]\n",
            " [-1  0  1]]\n",
            "[[ 5]\n",
            " [ 7]\n",
            " [-1]]\n",
            "[[31]\n",
            " [34]\n",
            " [-6]]\n",
            "[[31]\n",
            " [34]\n",
            " [-6]]\n"
          ]
        }
      ],
      "source": [
        "print(L)\n",
        "print(v2)\n",
        "print(L @ v2)\n",
        "print(L.dot(v2))"
      ]
    },
    {
      "cell_type": "code",
      "execution_count": 68,
      "metadata": {
        "colab": {
          "base_uri": "https://localhost:8080/",
          "height": 165
        },
        "id": "sXTJ_1okkA-W",
        "outputId": "b3aff129-d6aa-4828-f63e-aa6a48e9768f"
      },
      "outputs": [
        {
          "output_type": "error",
          "ename": "ValueError",
          "evalue": "ignored",
          "traceback": [
            "\u001b[0;31m---------------------------------------------------------------------------\u001b[0m",
            "\u001b[0;31mValueError\u001b[0m                                Traceback (most recent call last)",
            "\u001b[0;32m<ipython-input-68-d0bac0399dde>\u001b[0m in \u001b[0;36m<module>\u001b[0;34m()\u001b[0m\n\u001b[0;32m----> 1\u001b[0;31m \u001b[0mM\u001b[0m\u001b[0;34m.\u001b[0m\u001b[0mdot\u001b[0m\u001b[0;34m(\u001b[0m\u001b[0mv1\u001b[0m\u001b[0;34m)\u001b[0m     \u001b[0;31m# Evidentemente, si las dimensiones no son compatibles, nos devolverá un mensaje de error\u001b[0m\u001b[0;34m\u001b[0m\u001b[0;34m\u001b[0m\u001b[0m\n\u001b[0m",
            "\u001b[0;31mValueError\u001b[0m: shapes (3,3) and (1,3) not aligned: 3 (dim 1) != 1 (dim 0)"
          ]
        }
      ],
      "source": [
        "M.dot(v1)     # Evidentemente, si las dimensiones no son compatibles, nos devolverá un mensaje de error"
      ]
    },
    {
      "cell_type": "markdown",
      "metadata": {
        "id": "Z6VqM2rpkA-W"
      },
      "source": [
        "No hay un símbolo específico para calcular **potencias de una matriz** (recordemos que `**` calcula las potencias de los elementos, no de la matriz en sí). Por tanto, usaremos el comando `np.linalg.matrix_power(M, k)` proveniente del subpaquete `linalg` de `numpy` (recordemos que lo tenemos abreviado por `np`) para calcular la $k$-ésima potencia de $M$, i.e. $M^k$. "
      ]
    },
    {
      "cell_type": "code",
      "execution_count": 34,
      "metadata": {
        "colab": {
          "base_uri": "https://localhost:8080/"
        },
        "id": "Zbh9tUlckA-W",
        "outputId": "e0929abb-e5a7-45f2-fe04-8b1d12e62a66"
      },
      "outputs": [
        {
          "output_type": "stream",
          "name": "stdout",
          "text": [
            "[[183  31  43]\n",
            " [211  34  49]\n",
            " [-37  -6  -7]]\n",
            "[[183  31  43]\n",
            " [211  34  49]\n",
            " [-37  -6  -7]]\n"
          ]
        }
      ],
      "source": [
        "print(np.linalg.matrix_power(L,3))         # L^3 calculada a través de la función np.linalg.matrix_power\n",
        "print(L@L@L)                               # L^3 calculada a través de multiplicar L tres veces"
      ]
    },
    {
      "cell_type": "markdown",
      "metadata": {
        "id": "9wvRNIdQkA-W"
      },
      "source": [
        "También es posible, por comodidad, abreviar el nombre de este comando, por ejemplo por `mpow`. "
      ]
    },
    {
      "cell_type": "code",
      "execution_count": 35,
      "metadata": {
        "colab": {
          "base_uri": "https://localhost:8080/"
        },
        "id": "iBKksq6CkA-W",
        "outputId": "a86e90f7-29df-43cf-f062-cefc4d118699"
      },
      "outputs": [
        {
          "output_type": "stream",
          "name": "stdout",
          "text": [
            "[[183  31  43]\n",
            " [211  34  49]\n",
            " [-37  -6  -7]]\n"
          ]
        }
      ],
      "source": [
        "from numpy.linalg import matrix_power as mpow \n",
        "\n",
        "# Típico error: \"from np.linalg import matrix_power as mpow\", no podemos usar la abreviatura np.linalg !!\n",
        "\n",
        "print(mpow(L, 3))"
      ]
    },
    {
      "cell_type": "markdown",
      "metadata": {
        "id": "X8lX48R9kA-W"
      },
      "source": [
        "La **traspuesta de una matriz** se puede calcular a partir del comando `.T`."
      ]
    },
    {
      "cell_type": "code",
      "execution_count": 58,
      "metadata": {
        "colab": {
          "base_uri": "https://localhost:8080/"
        },
        "id": "TjVfkolBkA-W",
        "outputId": "eaac0c93-d5a2-44d6-fa2a-ba2759550a77"
      },
      "outputs": [
        {
          "output_type": "stream",
          "name": "stdout",
          "text": [
            "[[1]\n",
            " [2]\n",
            " [3]]\n",
            "[[14]]\n"
          ]
        }
      ],
      "source": [
        "print(v1.T)\n",
        "print(v1@v1.T)     # producto escalar de v1 con v1"
      ]
    },
    {
      "cell_type": "markdown",
      "metadata": {
        "id": "Q5moc-EEkA-X"
      },
      "source": [
        "Usando el anterior comando, podemos calcular _manualmente_ la norma de un vector $v$, aunque también existe el comando `la.norm(v)` para calcularlo directamente."
      ]
    },
    {
      "cell_type": "code",
      "execution_count": 64,
      "metadata": {
        "colab": {
          "base_uri": "https://localhost:8080/"
        },
        "id": "-6sWs1zwkA-X",
        "outputId": "d4b456f2-f45b-4edc-bbdc-8967464dc2cb"
      },
      "outputs": [
        {
          "output_type": "stream",
          "name": "stdout",
          "text": [
            "[[3.74165739]]\n",
            "3.7416573867739413\n",
            "3.7416573867739413\n"
          ]
        }
      ],
      "source": [
        "print(np.sqrt(v1@v1.T))  # manualmente: de esta manera, el resultado obtenido es una matriz (pues multiplicamos dos matrices)\n",
        "print(np.sqrt(np.sum(v1*v1)))  # manualmente: de esta manera, multiplicamos elemento a elemento v1, sumamos y raíz cuadrada\n",
        "print(la.norm(v1))"
      ]
    },
    {
      "cell_type": "markdown",
      "metadata": {
        "id": "5LRl-Uy3kA-X"
      },
      "source": [
        "La **matriz inversa** de una matriz $M$ puede calcularse a través de `la.inv(M)`; su **traza** mediante `np.trace(M)`, su **determinante** a través de `la.det(M)` y su **rango** mediante `np.linalg.matrix_rank(M)`."
      ]
    },
    {
      "cell_type": "code",
      "execution_count": 77,
      "metadata": {
        "colab": {
          "base_uri": "https://localhost:8080/"
        },
        "id": "8nXStY47kA-X",
        "outputId": "0ed493b2-26b9-46cd-d90c-80cc314ac194"
      },
      "outputs": [
        {
          "output_type": "stream",
          "name": "stdout",
          "text": [
            "[[ 5  1  1]\n",
            " [ 7  0  1]\n",
            " [-1  0  1]]\n",
            "6\n",
            "-8.0\n",
            "[[-0.     0.125 -0.125]\n",
            " [ 1.    -0.75  -0.25 ]\n",
            " [ 0.     0.125  0.875]]\n",
            "[[ 1.00000000e+00  1.11022302e-16 -1.11022302e-16]\n",
            " [ 0.00000000e+00  1.00000000e+00  0.00000000e+00]\n",
            " [ 0.00000000e+00  0.00000000e+00  1.00000000e+00]]\n"
          ]
        }
      ],
      "source": [
        "print(L)\n",
        "print(np.trace(L))\n",
        "print(la.det(L))    # distinto de cero, luego podemos calcular sin problema su inversa\n",
        "print(la.inv(L))\n",
        "print(L.dot(la.inv(L)))"
      ]
    },
    {
      "cell_type": "code",
      "execution_count": 66,
      "metadata": {
        "colab": {
          "base_uri": "https://localhost:8080/"
        },
        "id": "JqIA97E1kA-X",
        "outputId": "cc1ccdd9-f06e-4b22-83ad-8c610f942a83"
      },
      "outputs": [
        {
          "output_type": "execute_result",
          "data": {
            "text/plain": [
              "1"
            ]
          },
          "metadata": {},
          "execution_count": 66
        }
      ],
      "source": [
        "from numpy.linalg import matrix_rank as rank     # abreviamos el comando para calcular rangos\n",
        "\n",
        "rank(L)"
      ]
    },
    {
      "cell_type": "markdown",
      "metadata": {
        "id": "uHjMjH46kA-X"
      },
      "source": [
        "### 5. Submatrices\n",
        "\n",
        "\n",
        "Es posible trabajar con **submatrices** extraídas de una matriz $M$, usando expresiones como las siguientes:\n",
        "\n",
        "1. `M[i-1,j-1]` para el elemento que ocupa la posición fila $i$ y columna $j$\n",
        "2. `M[i-1:i,:]` para la fila $i$\n",
        "3. `M[:,j-1:j]` para la columna $j$\n",
        "4. `M[r-1:s,:]` para la submatriz formada por las filas entre la $r$ y la $s$\n",
        "5. `M[[r-1,s-1],:]` para la submatriz formada por las filas $r$ y $s$\n",
        "\n",
        "Observemos que estas expresiones también nos permiten hacer modificaciones en una matriz que ya ha sido introducida. Así, por ejemplo, si queremos modificar la fila $i$ de $M$, podemos escribir `M[i-1,:] = nueva fila`.\n",
        "\n",
        "Es importante recordar que los índices comienzan en el número 0 (i.e. la posición primera es el índice 0), por ello para seleccionar la fila $i$ escribimos el índice `i-1`. Además, por comodidad podemos utilizar el índice `-1` para seleccionar el último elemento, `-2` para el penúltimo, etc. Asimismo, los rangos `a:b` por defecto no seleccionan el último elemento `b`, luego acabaría en el `b-1` (por tanto, el rango `i-1:i` realmente solo contiene un número, el $i-1$).\n",
        "\n",
        "Ante la posible duda de porqué no usamos `M[:,j-1]` para seleccionar la columna $j$ de $M$ en vez de `M[:,j-1:j]`, es importante mencionar que la primera opción devuelve una lista y no un vector columna, luego no podríamos operar matricialmente de forma correcta. La segunda opción sí que devuelve un vector columna y esto se debe a una cuestión un poco técnica: aunque `j-1:j` solamente contiene el número $j-1$, tiene estructura de rango, luego _está en concordancia_ con el formato de filas seleccionado."
      ]
    },
    {
      "cell_type": "code",
      "execution_count": 83,
      "metadata": {
        "colab": {
          "base_uri": "https://localhost:8080/"
        },
        "id": "LchqoTp7kA-X",
        "outputId": "43a81e01-e465-46d5-db06-7313d489866f"
      },
      "outputs": [
        {
          "output_type": "stream",
          "name": "stdout",
          "text": [
            "[[ 5  1  1]\n",
            " [ 7  8  1]\n",
            " [-1  0  1]]\n"
          ]
        }
      ],
      "source": [
        "print(L)"
      ]
    },
    {
      "cell_type": "code",
      "execution_count": 84,
      "metadata": {
        "colab": {
          "base_uri": "https://localhost:8080/"
        },
        "id": "t_FH9WqfkA-X",
        "outputId": "998cf746-ffcc-4c97-b858-67a4f1f559a8"
      },
      "outputs": [
        {
          "output_type": "stream",
          "name": "stdout",
          "text": [
            "7\n",
            "[[ 5  1  1]\n",
            " [ 7  8  1]\n",
            " [-1  0  1]]\n"
          ]
        }
      ],
      "source": [
        "print(L[1,0])       # seleccionamos el elemento (2,1) de la matriz L\n",
        "L[1,1]=8            # cambiamos el elemento (2,2) de la matriz L por un 8, es decir, cambiamos el 0 por 8\n",
        "print(L)"
      ]
    },
    {
      "cell_type": "markdown",
      "metadata": {
        "id": "e1TfglEkkA-Y"
      },
      "source": [
        "Observemos que $L$ ha cambiado. Si no queríamos perder la matriz $L$ inicial, sería mejor hacer las modificaciones sobre una _copia_ de la matriz $L$, digamos $L1$. Esto es posible mediante el comando `L.copy()`. (¡No vale con asignar `L1=L`, pues los cambios se realizarán igualmente sobre ambas matrices!)"
      ]
    },
    {
      "cell_type": "code",
      "execution_count": 85,
      "metadata": {
        "colab": {
          "base_uri": "https://localhost:8080/"
        },
        "id": "ghAEJpO6kA-Y",
        "outputId": "16bb41c7-3aba-43c0-fecf-4d932c357e8b"
      },
      "outputs": [
        {
          "output_type": "stream",
          "name": "stdout",
          "text": [
            "[[ 5  5  1]\n",
            " [ 7  5  1]\n",
            " [-1  4  1]]\n",
            "[[ 5  1  1]\n",
            " [ 7  8  1]\n",
            " [-1  0  1]]\n"
          ]
        }
      ],
      "source": [
        "L1=L.copy()\n",
        "L1[:,1]=[5,5,4]\n",
        "print(L1)\n",
        "print(L)"
      ]
    },
    {
      "cell_type": "code",
      "execution_count": 80,
      "metadata": {
        "colab": {
          "base_uri": "https://localhost:8080/"
        },
        "id": "S6F3qvsqkA-Y",
        "outputId": "a8688dda-9250-49de-a255-f4602ffe0958"
      },
      "outputs": [
        {
          "output_type": "stream",
          "name": "stdout",
          "text": [
            "[[ 7  8  1]\n",
            " [-1  0  1]]\n",
            "[[ 7  8  1]\n",
            " [-1  0  1]]\n"
          ]
        }
      ],
      "source": [
        "print(L[[1,2],:])    # seleccionamos las dos últimas filas de L\n",
        "print(L[1:,:])       # equivalentemente: \"1:\" significa que seleccionamos el rango que empieza en el 1 hasta \"el final\""
      ]
    },
    {
      "cell_type": "code",
      "execution_count": 87,
      "metadata": {
        "colab": {
          "base_uri": "https://localhost:8080/"
        },
        "id": "uyM9lwhakA-Y",
        "outputId": "28510c09-6e68-44aa-b831-bc60784c2f66"
      },
      "outputs": [
        {
          "output_type": "stream",
          "name": "stdout",
          "text": [
            "[[0.37711251 0.10357807 0.51057289 0.630776   0.78167871]\n",
            " [0.48227887 0.66050856 0.66828233 0.31573373 0.66772668]\n",
            " [0.66768389 0.01811994 0.10110726 0.16221111 0.85324423]\n",
            " [0.82749818 0.76201721 0.76262515 0.37483555 0.60986964]\n",
            " [0.00509758 0.41355027 0.88652064 0.7522179  0.71186088]]\n",
            "[[0.48227887 0.66050856 0.66828233 0.31573373]\n",
            " [0.82749818 0.76201721 0.76262515 0.37483555]]\n"
          ]
        }
      ],
      "source": [
        "I=np.random.rand(5,5)         # creamos una matriz 5 x 5 de elementos aleatorios\n",
        "print(I)\n",
        "print(I[[1,-2],0:4])          # seleccionamos las filas 2 y 4, y las columnas de la 1 a la 4"
      ]
    },
    {
      "cell_type": "code",
      "execution_count": 82,
      "metadata": {
        "colab": {
          "base_uri": "https://localhost:8080/"
        },
        "id": "wS8sxolLkA-Y",
        "outputId": "190ebac7-af29-4e39-850c-d075732be18b"
      },
      "outputs": [
        {
          "output_type": "stream",
          "name": "stdout",
          "text": [
            "[[0.8099012  0.44896305 0.64001009 0.57682962 0.37654376]]\n",
            "[[0.38637004]\n",
            " [0.96347209]\n",
            " [0.05502902]\n",
            " [0.76623949]\n",
            " [0.64001009]]\n"
          ]
        }
      ],
      "source": [
        "print(I[4:5,:])                 # seleccionamos la última fila de I\n",
        "print(I[:,2:3])                 # seleccionamos la tercera columna de I"
      ]
    },
    {
      "cell_type": "markdown",
      "metadata": {
        "id": "-1uC4T_XkA-Y"
      },
      "source": [
        "### 6. Ejercicios\n",
        "\n",
        "1. Dados los números $x = 14.32$, $y = 27.12$ y $z = 3.5$, calcula el valor de la expresión $\\dfrac{8x+y^2}{2-\\sqrt[6]{x^3+\\frac{1}{z}}}$. (Solución: -476.424)\n",
        "\n",
        "\n",
        "2. Crea la matriz $M=(m_{ij})$ de orden $50 \\times 50$ tal que $m_{ii} = 10$ y $m_{ij} = 0$ para $i\\neq j$.\n",
        "\n",
        "\n",
        "3. Dados los vectores $u = \\left(\\frac{1}{4}, -\\frac{1}{6}, \\frac{5}{6}\\right)$ y $v = \\left(\\frac{1}{5}, \\frac{3}{4}, -\\frac{2}{3}\\right)$, calcula el producto escalar de ambos vectores. (Solución: -0.63055)\n",
        "\n",
        "\n",
        "4. Dada la matriz $A=\\begin{pmatrix} 1&2&3\\\\7&8&9\\\\4&5&6\\end{pmatrix}$, calcula la matriz $Z=A^3+16A^2-A^{\\text{t}}+2I$, siendo $A^{\\text{t}}$ la transpuesta de $A$ e $I$ la matriz identidad $3\\times 3$. (Solución: $Z=\\begin{pmatrix} 847&1034&1232\\\\3130&3879&4633\\\\1986&2454&2933 \\end{pmatrix}$)\n",
        "\n",
        "\n",
        "5. Considera el vector $V=\\begin{pmatrix} 1\\\\7\\\\6 \\end{pmatrix}$. Calcula la matriz $ZV$, siendo $Z$ la matriz del ejercicio anterior. (Solución: $ZV=\\begin{pmatrix} 15477\\\\ 58081\\\\ 36762\\end{pmatrix}$)\n",
        "\n",
        "\n",
        "6. Calcula el determinante de la siguiente matriz (estas matrices se denominan _circulantes_ ). $C=\\begin{pmatrix} 1& 2& 3& 4& 5\\\\2& 3& 4& 5& 1 \\\\ 3& 4& 5& 1& 2\\\\ 4& 5& 1& 2& 3\\\\ 5& 1& 2& 3& 4\\end{pmatrix}$. (Ayuda: puedes introducir rápidamente la matriz C con el comando `C = la.circulant([1,2,3,4,5])[:,[0,4,3,2,1]]`) (Solución: 1875)"
      ]
    },
    {
      "cell_type": "code",
      "execution_count": 69,
      "metadata": {
        "colab": {
          "base_uri": "https://localhost:8080/"
        },
        "id": "8SN18gk1kA-Z",
        "outputId": "3dffeacc-5a3a-4f43-9389-4c0c37b82e79"
      },
      "outputs": [
        {
          "output_type": "stream",
          "name": "stdout",
          "text": [
            "-476.4364607272688\n"
          ]
        }
      ],
      "source": [
        "x=14.32 \n",
        "y=27.12\n",
        "z=3.5\n",
        "W=8*x+y**2\n",
        "D=2-(x**3+1/x)**(1/6)\n",
        "print(W/D)\n"
      ]
    },
    {
      "cell_type": "code",
      "source": [
        "print(10*np.eye(50))"
      ],
      "metadata": {
        "colab": {
          "base_uri": "https://localhost:8080/"
        },
        "id": "17zuTJyguKSF",
        "outputId": "5ea16aca-32ac-4042-f9ac-9be1d353e7b4"
      },
      "execution_count": 43,
      "outputs": [
        {
          "output_type": "stream",
          "name": "stdout",
          "text": [
            "[[10.  0.  0. ...  0.  0.  0.]\n",
            " [ 0. 10.  0. ...  0.  0.  0.]\n",
            " [ 0.  0. 10. ...  0.  0.  0.]\n",
            " ...\n",
            " [ 0.  0.  0. ... 10.  0.  0.]\n",
            " [ 0.  0.  0. ...  0. 10.  0.]\n",
            " [ 0.  0.  0. ...  0.  0. 10.]]\n"
          ]
        }
      ]
    },
    {
      "cell_type": "code",
      "source": [
        "u=np.array([[1/4,-1/6,5/6]])\n",
        "v=np.array([[1/5,3/4,-2/3]])\n",
        "print(u*v)\n",
        "np.sum(u*v)"
      ],
      "metadata": {
        "colab": {
          "base_uri": "https://localhost:8080/"
        },
        "id": "7TGCADISv6TO",
        "outputId": "21c9c132-a792-43ba-f53f-f7974bd45181"
      },
      "execution_count": 51,
      "outputs": [
        {
          "output_type": "stream",
          "name": "stdout",
          "text": [
            "[[ 0.05       -0.125      -0.55555556]]\n"
          ]
        },
        {
          "output_type": "execute_result",
          "data": {
            "text/plain": [
              "-0.6305555555555555"
            ]
          },
          "metadata": {},
          "execution_count": 51
        }
      ]
    },
    {
      "cell_type": "code",
      "source": [
        "A=np.array([[1,2,3],[7,8,9],[4,5,6]])\n",
        "Z=(A @ A @ A)+(16*A @ A)-(A.T)+(2*np.eye(3))\n",
        "print(Z)\n"
      ],
      "metadata": {
        "colab": {
          "base_uri": "https://localhost:8080/"
        },
        "id": "8JrV9RboyAdo",
        "outputId": "6259b06a-a5bd-4e20-f16d-e085e0555233"
      },
      "execution_count": 62,
      "outputs": [
        {
          "output_type": "stream",
          "name": "stdout",
          "text": [
            "[[ 847. 1034. 1232.]\n",
            " [3130. 3879. 4633.]\n",
            " [1986. 2454. 2933.]]\n"
          ]
        }
      ]
    },
    {
      "cell_type": "code",
      "source": [
        "V=np.array([[1],[7],[6]])\n",
        "Z=([[847,1034,1232],[3180,3879,4633],[1986,2454,2933]])\n",
        "ZA=Z @ V\n",
        "print(ZA)"
      ],
      "metadata": {
        "colab": {
          "base_uri": "https://localhost:8080/"
        },
        "id": "v5SUDRCY0ikT",
        "outputId": "2918b4a1-6dce-4fae-8fda-006b8c6fd99c"
      },
      "execution_count": 94,
      "outputs": [
        {
          "output_type": "stream",
          "name": "stdout",
          "text": [
            "[[15477]\n",
            " [58131]\n",
            " [36762]]\n"
          ]
        }
      ]
    },
    {
      "cell_type": "code",
      "source": [
        "C = la.circulant([1,2,3,4,5])[:,[0,4,3,2,1]])"
      ],
      "metadata": {
        "colab": {
          "base_uri": "https://localhost:8080/",
          "height": 130
        },
        "id": "DReMvo0-4pKr",
        "outputId": "a0c618a9-bf61-400a-8372-1d0d4049a59e"
      },
      "execution_count": 95,
      "outputs": [
        {
          "output_type": "error",
          "ename": "SyntaxError",
          "evalue": "ignored",
          "traceback": [
            "\u001b[0;36m  File \u001b[0;32m\"<ipython-input-95-193c3acef91f>\"\u001b[0;36m, line \u001b[0;32m1\u001b[0m\n\u001b[0;31m    C = la.circulant([1,2,3,4,5])[:,[0,4,3,2,1]])\u001b[0m\n\u001b[0m                                                ^\u001b[0m\n\u001b[0;31mSyntaxError\u001b[0m\u001b[0;31m:\u001b[0m invalid syntax\n"
          ]
        }
      ]
    },
    {
      "cell_type": "markdown",
      "source": [
        ""
      ],
      "metadata": {
        "id": "LPy-SSWuwfwg"
      }
    }
  ],
  "metadata": {
    "kernelspec": {
      "display_name": "Python 3",
      "language": "python",
      "name": "python3"
    },
    "language_info": {
      "codemirror_mode": {
        "name": "ipython",
        "version": 3
      },
      "file_extension": ".py",
      "mimetype": "text/x-python",
      "name": "python",
      "nbconvert_exporter": "python",
      "pygments_lexer": "ipython3",
      "version": "3.6.13"
    },
    "colab": {
      "name": "L1. Matrices.ipynb",
      "provenance": [],
      "include_colab_link": true
    }
  },
  "nbformat": 4,
  "nbformat_minor": 0
}