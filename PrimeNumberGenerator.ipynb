{
  "nbformat": 4,
  "nbformat_minor": 0,
  "metadata": {
    "colab": {
      "name": "PrimeNumberGenerator.ipynb",
      "provenance": [],
      "collapsed_sections": []
    },
    "kernelspec": {
      "name": "python3",
      "display_name": "Python 3"
    },
    "language_info": {
      "name": "python"
    }
  },
  "cells": [
    {
      "cell_type": "code",
      "metadata": {
        "id": "kqNrrMKCQ8iN"
      },
      "source": [
        "PrimeNumberList = []\n",
        "x = int(input())\n",
        "\n",
        "def isPrime(n):\n",
        "  isPrime = True\n",
        "  for x in range(2,n):\n",
        "    if n % x == 0:\n",
        "      isPrime = False\n",
        "      break\n",
        "\n",
        "  if(isPrime):\n",
        "      PrimeNumberList.insert(0,n)  \n",
        "\n",
        "def verifyPrimeNumbers(n):\n",
        "  if(n < 2):\n",
        "    print(PrimeNumberList)\n",
        "  else:\n",
        "    isPrime(n)\n",
        "    verifyPrimeNumbers (n-1)\n",
        "\n",
        "verifyPrimeNumbers(x)           "
      ],
      "execution_count": null,
      "outputs": []
    }
  ]
}